{
 "cells": [
  {
   "cell_type": "code",
   "execution_count": 30,
   "metadata": {},
   "outputs": [],
   "source": [
    "import pandas as pd\n",
    "import numpy as np\n",
    "import matplotlib.pyplot as plt\n",
    "import seaborn as sns\n",
    "from statsmodels.tsa.seasonal import seasonal_decompose\n",
    "%matplotlib inline\n"
   ]
  },
  {
   "cell_type": "code",
   "execution_count": 31,
   "metadata": {},
   "outputs": [],
   "source": [
    "import pandas as pd\n",
    "import sys\n",
    "import os\n",
    "\n",
    "# Append the parent directory to the system path\n",
    "sys.path.append(os.path.abspath('../'))\n",
    "\n",
    "# Load the data with the correct file names\n",
    "tsla = pd.read_csv('../data/raw/TSLA.csv', parse_dates=['Date'], index_col='Date')\n",
    "bnd = pd.read_csv('../data/raw/BND.csv', parse_dates=['Date'], index_col='Date')\n",
    "spy = pd.read_csv('../data/raw/SPY.csv', parse_dates=['Date'], index_col='Date')\n",
    "\n",
    "# # Display the first few rows of TSLA data\n",
    "# print(\"TSLA Data:\")\n",
    "# print(tsla.head())\n",
    "# print(\"\\nBND Data:\")\n",
    "# print(bnd.head())\n",
    "# print(\"\\nSPY Data:\")\n",
    "# print(spy.head())"
   ]
  },
  {
   "cell_type": "code",
   "execution_count": 32,
   "metadata": {},
   "outputs": [],
   "source": [
    "# # Data information and summary statistics\n",
    "# tickers = [spy,bnd,tsla]\n",
    "# for df in tickers:\n",
    "#     print(f\"\\nInformation for {ticker}:\")\n",
    "#     print(df.info())\n",
    "    \n",
    "#     print(f\"\\nSummary statistics for {ticker}:\")\n",
    "#     print(df.describe())\n",
    "\n"
   ]
  },
  {
   "cell_type": "code",
   "execution_count": null,
   "metadata": {},
   "outputs": [],
   "source": []
  },
  {
   "cell_type": "code",
   "execution_count": 33,
   "metadata": {},
   "outputs": [
    {
     "ename": "SyntaxError",
     "evalue": "incomplete input (1758091379.py, line 4)",
     "output_type": "error",
     "traceback": [
      "\u001b[1;36m  Cell \u001b[1;32mIn[33], line 4\u001b[1;36m\u001b[0m\n\u001b[1;33m    #  print(ticker.isnull().sum())\u001b[0m\n\u001b[1;37m                                   ^\u001b[0m\n\u001b[1;31mSyntaxError\u001b[0m\u001b[1;31m:\u001b[0m incomplete input\n"
     ]
    }
   ],
   "source": [
    "# Check for missing values\n",
    "for ticker in tickers:\n",
    "#  print(f\"information{ticker}\")\n",
    "#  print(ticker.isnull().sum())"
   ]
  },
  {
   "cell_type": "code",
   "execution_count": 34,
   "metadata": {},
   "outputs": [],
   "source": [
    "sys.path.append(os.path.abspath('../'))\n",
    "from scripts.preprocess import dataclean\n",
    "\n",
    "clean_tals=dataclean(tsla)\n",
    "cleanbnd=dataclean(bnd)\n",
    "clenspy=dataclean(spy)\n"
   ]
  },
  {
   "cell_type": "code",
   "execution_count": null,
   "metadata": {},
   "outputs": [],
   "source": [
    "sys.path.append(os.path.abspath('../'))\n",
    "from scripts.data_visualization import closing_price,daily_returns\n",
    "# closing_price(bnd,'BND DATA')\n",
    "# closing_price(tsla,'TESLA DATA')\n",
    "# closing_price(spy,'SPY DATA')\n",
    "# plt.figure(figsize=(14, 7))\n",
    "# plt.plot(tsla['Close'], label='TSLA Close Price', color='blue')\n",
    "# plt.title('Tesla Historical Closing Prices')\n",
    "# plt.xlabel('Date')\n",
    "# plt.ylabel('Price')\n",
    "# plt.legend()\n",
    "# plt.show()\n"
   ]
  },
  {
   "cell_type": "code",
   "execution_count": 36,
   "metadata": {},
   "outputs": [
    {
     "ename": "SyntaxError",
     "evalue": "invalid syntax. Maybe you meant '==' or ':=' instead of '='? (data_visualization.py, line 81)",
     "output_type": "error",
     "traceback": [
      "Traceback \u001b[1;36m(most recent call last)\u001b[0m:\n",
      "\u001b[0m  File \u001b[0;32mc:\\Users\\User\\Desktop\\GMF-Investments-Data-Driven-Financial-Forecasting-Portfolio-Optimization\\venv\\Lib\\site-packages\\IPython\\core\\interactiveshell.py:3579\u001b[0m in \u001b[0;35mrun_code\u001b[0m\n    exec(code_obj, self.user_global_ns, self.user_ns)\u001b[0m\n",
      "\u001b[1;36m  Cell \u001b[1;32mIn[36], line 4\u001b[1;36m\n\u001b[1;33m    from scripts.data_visualization import closing_price,daily_returns,rolling_statistics\u001b[1;36m\n",
      "\u001b[1;36m  File \u001b[1;32mc:\\Users\\User\\Desktop\\GMF-Investments-Data-Driven-Financial-Forecasting-Portfolio-Optimization\\scripts\\data_visualization.py:81\u001b[1;36m\u001b[0m\n\u001b[1;33m    decomposition =data['Close'], model='additive', period=252  # Assuming ~252 trading days per year\u001b[0m\n\u001b[1;37m    ^\u001b[0m\n\u001b[1;31mSyntaxError\u001b[0m\u001b[1;31m:\u001b[0m invalid syntax. Maybe you meant '==' or ':=' instead of '='?\n"
     ]
    }
   ],
   "source": [
    "import sys\n",
    "import os\n",
    "sys.path.append(os.path.abspath('../'))\n",
    "from scripts.data_visualization import closing_price,daily_returns,rolling_statistics\n",
    "daily_returns(cleanbnd,'BND DATA')\n",
    "daily_returns(clean_tals,'TESLA DATA')\n",
    "daily_returns(clenspy,'SPY DATA')"
   ]
  },
  {
   "cell_type": "code",
   "execution_count": null,
   "metadata": {},
   "outputs": [],
   "source": [
    "\n",
    "# def rolling_statistics(data)\n",
    "# # Calculate 30-day rolling statistics\n",
    "#  data['Rolling_Mean'] = data['Close'].rolling(window=30).mean()\n",
    "#  data['Rolling_STD'] = data['Close'].rolling(window=30).std()\n",
    "\n",
    "# # Plot rolling statistics\n",
    "#  plt.figure(figsize=(14, 7))\n",
    "#  plt.plot(data['Rolling_Mean'], label='30-Day Rolling Mean', color='orange')\n",
    "#  plt.plot(data['Rolling_STD'], label='30-Day Rolling STD', color='red')\n",
    "#  plt.title('Tesla Rolling Statistics')\n",
    "#  plt.xlabel('Date')\n",
    "#  plt.legend()\n",
    "#  plt.show()\n",
    "\n",
    "rolling_statistics(bnd,'BND DATA')\n",
    "rolling_statistics(tsla,'TESLA DATA')\n",
    "rolling_statistics(spy,'SPY DATA')\n"
   ]
  },
  {
   "cell_type": "code",
   "execution_count": 27,
   "metadata": {},
   "outputs": [
    {
     "ename": "ImportError",
     "evalue": "cannot import name 'seasonal_decomposition' from 'scripts.seasonal_decompose' (c:\\Users\\User\\Desktop\\GMF-Investments-Data-Driven-Financial-Forecasting-Portfolio-Optimization\\scripts\\seasonal_decompose.py)",
     "output_type": "error",
     "traceback": [
      "\u001b[1;31m---------------------------------------------------------------------------\u001b[0m",
      "\u001b[1;31mImportError\u001b[0m                               Traceback (most recent call last)",
      "Cell \u001b[1;32mIn[27], line 1\u001b[0m\n\u001b[1;32m----> 1\u001b[0m \u001b[38;5;28;01mfrom\u001b[39;00m\u001b[38;5;250m \u001b[39m\u001b[38;5;21;01mscripts\u001b[39;00m\u001b[38;5;21;01m.\u001b[39;00m\u001b[38;5;21;01mseasonal_decompose\u001b[39;00m\u001b[38;5;250m \u001b[39m\u001b[38;5;28;01mimport\u001b[39;00m seasonal_decomposition\n\u001b[0;32m      2\u001b[0m seasonal_decomposition(clenspy)\n",
      "\u001b[1;31mImportError\u001b[0m: cannot import name 'seasonal_decomposition' from 'scripts.seasonal_decompose' (c:\\Users\\User\\Desktop\\GMF-Investments-Data-Driven-Financial-Forecasting-Portfolio-Optimization\\scripts\\seasonal_decompose.py)"
     ]
    }
   ],
   "source": [
    "from scripts.seasonal_decompose import seasonal_decomposition\n",
    "seasonal_decomposition(clenspy)"
   ]
  }
 ],
 "metadata": {
  "kernelspec": {
   "display_name": "venv",
   "language": "python",
   "name": "python3"
  },
  "language_info": {
   "codemirror_mode": {
    "name": "ipython",
    "version": 3
   },
   "file_extension": ".py",
   "mimetype": "text/x-python",
   "name": "python",
   "nbconvert_exporter": "python",
   "pygments_lexer": "ipython3",
   "version": "3.12.8"
  }
 },
 "nbformat": 4,
 "nbformat_minor": 2
}
