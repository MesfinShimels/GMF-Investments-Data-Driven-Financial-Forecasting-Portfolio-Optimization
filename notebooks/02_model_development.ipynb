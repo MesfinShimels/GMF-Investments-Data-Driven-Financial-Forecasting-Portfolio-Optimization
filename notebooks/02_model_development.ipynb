{
 "cells": [
  {
   "cell_type": "code",
   "execution_count": null,
   "metadata": {},
   "outputs": [],
   "source": [
    "# 02_model_development.ipynb\n",
    "\n",
    "\"\"\"\n",
    "This Jupyter Notebook demonstrates time series forecasting for TSLA\n",
    "using an ARIMA model (auto_arima from pmdarima).\n",
    "\"\"\"\n",
    "import pandas as pd\n",
    "import numpy as np\n",
    "import matplotlib.pyplot as plt\n",
    "from pmdarima import auto_arima\n",
    "from sklearn.metrics import mean_squared_error, mean_absolute_error\n",
    "import math\n",
    "\n",
    "\n"
   ]
  },
  {
   "cell_type": "code",
   "execution_count": null,
   "metadata": {},
   "outputs": [],
   "source": [
    "# 1. Load Data\n",
    "df = pd.read_csv('../data/raw/TSLA.csv', parse_dates=['Date'], index_col='Date').sort_index()\n",
    "ts = df['Close'].dropna()\n",
    "\n",
    "# 2. Train-Test Split\n",
    "train_end = '2023-12-31'\n",
    "train_data = ts.loc[:train_end]\n",
    "test_data = ts.loc['2024-01-01':]\n",
    "\n"
   ]
  },
  {
   "cell_type": "code",
   "execution_count": null,
   "metadata": {},
   "outputs": [],
   "source": [
    "# 3. Fit ARIMA using auto_arima\n",
    "model = auto_arima(train_data, seasonal=False, trace=False, stepwise=True)\n",
    "\n"
   ]
  },
  {
   "cell_type": "code",
   "execution_count": null,
   "metadata": {},
   "outputs": [],
   "source": [
    "# 4. Forecast on Test Set\n",
    "n_test = len(test_data)\n",
    "forecast_test = model.predict(n_periods=n_test)\n",
    "forecast_index = test_data.index\n",
    "forecast_test_series = pd.Series(forecast_test, index=forecast_index)\n",
    "\n"
   ]
  },
  {
   "cell_type": "code",
   "execution_count": null,
   "metadata": {},
   "outputs": [],
   "source": [
    "# 5. Evaluate\n",
    "mse = mean_squared_error(test_data, forecast_test_series)\n",
    "rmse = math.sqrt(mse)\n",
    "mae = mean_absolute_error(test_data, forecast_test_series)\n",
    "mape = np.mean(np.abs((test_data - forecast_test_series) / test_data)) * 100\n",
    "\n",
    "print(f\"Test RMSE: {rmse:.2f}\")\n",
    "print(f\"Test MAE:  {mae:.2f}\")\n",
    "print(f\"Test MAPE: {mape:.2f}%\")\n",
    "\n"
   ]
  },
  {
   "cell_type": "code",
   "execution_count": null,
   "metadata": {},
   "outputs": [],
   "source": [
    "# 6. Visualize\n",
    "plt.figure(figsize=(12,6))\n",
    "plt.plot(train_data.index, train_data, label='Train Data')\n",
    "plt.plot(test_data.index, test_data, label='Test Data')\n",
    "plt.plot(forecast_test_series.index, forecast_test_series, label='Predicted', color='red')\n",
    "plt.title('TSLA ARIMA Forecast')\n",
    "plt.xlabel('Date')\n",
    "plt.ylabel('Price')\n",
    "plt.legend()\n",
    "plt.show()\n",
    "\n"
   ]
  },
  {
   "cell_type": "code",
   "execution_count": null,
   "metadata": {},
   "outputs": [],
   "source": [
    "# 7. Forecast Future\n",
    "future_periods = 30\n",
    "future_preds = model.predict(n_periods=future_periods)\n",
    "future_dates = pd.date_range(start=test_data.index[-1] + pd.Timedelta(days=1),\n",
    "                             periods=future_periods, freq='B')\n",
    "future_series = pd.Series(future_preds, index=future_dates)\n",
    "\n",
    "print(\"Future Forecast:\")\n",
    "print(future_series.head(10))"
   ]
  }
 ],
 "metadata": {
  "kernelspec": {
   "display_name": "venv",
   "language": "python",
   "name": "python3"
  },
  "language_info": {
   "name": "python",
   "version": "3.12.8"
  }
 },
 "nbformat": 4,
 "nbformat_minor": 2
}
