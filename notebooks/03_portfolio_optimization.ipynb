{
 "cells": [
  {
   "cell_type": "code",
   "execution_count": null,
   "metadata": {},
   "outputs": [],
   "source": [
    "# 03_portfolio_optimization.ipynb\n",
    "\n",
    "\"\"\"\n",
    "This Jupyter Notebook demonstrates a simple Markowitz optimization approach\n",
    "using random portfolio generation for TSLA, BND, and SPY.\n",
    "\"\"\"\n",
    "\n",
    "import pandas as pd\n",
    "import numpy as np\n",
    "import matplotlib.pyplot as plt\n",
    "\n",
    "# 1. Load Data\n",
    "tsla = pd.read_csv('../data/raw/TSLA.csv', parse_dates=['Date'], index_col='Date').sort_index()\n",
    "bnd = pd.read_csv('../data/raw/BND.csv', parse_dates=['Date'], index_col='Date').sort_index()\n",
    "spy = pd.read_csv('../data/raw/SPY.csv', parse_dates=['Date'], index_col='Date').sort_index()\n",
    "\n"
   ]
  },
  {
   "cell_type": "code",
   "execution_count": null,
   "metadata": {},
   "outputs": [],
   "source": [
    "# 2. Compute Returns\n",
    "df = pd.DataFrame({\n",
    "    'TSLA': tsla['Close'].pct_change(),\n",
    "    'BND': bnd['Close'].pct_change(),\n",
    "    'SPY': spy['Close'].pct_change()\n",
    "}).dropna()\n",
    "\n"
   ]
  },
  {
   "cell_type": "code",
   "execution_count": null,
   "metadata": {},
   "outputs": [],
   "source": [
    "# 3. Random Portfolio Simulation\n",
    "num_portfolios = 5000\n",
    "risk_free_rate = 0.02\n",
    "results = []\n",
    "\n"
   ]
  },
  {
   "cell_type": "code",
   "execution_count": null,
   "metadata": {},
   "outputs": [],
   "source": [
    "for _ in range(num_portfolios):\n",
    "    weights = np.random.random(3)\n",
    "    weights /= np.sum(weights)\n",
    "    # Annualized Return\n",
    "    port_return = np.sum(df.mean() * weights) * 252\n",
    "    # Annualized Volatility\n",
    "    port_vol = np.sqrt(np.dot(weights.T, np.dot(df.cov() * 252, weights)))\n",
    "    # Sharpe Ratio\n",
    "    sharpe = (port_return - risk_free_rate) / port_vol\n",
    "    \n",
    "    results.append({\n",
    "        'weights': weights,\n",
    "        'return': port_return,\n",
    "        'volatility': port_vol,\n",
    "        'sharpe': sharpe\n",
    "    })\n",
    "\n",
    "results_df = pd.DataFrame(results)\n",
    "best_portfolio = results_df.loc[results_df['sharpe'].idxmax()]"
   ]
  },
  {
   "cell_type": "code",
   "execution_count": null,
   "metadata": {},
   "outputs": [],
   "source": [
    "# 4. Print Best Portfolio\n",
    "print(\"Optimal Weights:\")\n",
    "tickers = ['TSLA', 'BND', 'SPY']\n",
    "for t, w in zip(tickers, best_portfolio['weights']):\n",
    "    print(f\"{t}: {w:.2%}\")\n",
    "\n",
    "print(f\"Expected Annual Return: {best_portfolio['return']:.2%}\")\n",
    "print(f\"Volatility: {best_portfolio['volatility']:.2%}\")\n",
    "print(f\"Sharpe Ratio: {best_portfolio['sharpe']:.2f}\")\n",
    "\n",
    "\n"
   ]
  },
  {
   "cell_type": "code",
   "execution_count": null,
   "metadata": {},
   "outputs": [],
   "source": [
    "# 5. Visualization (Optional)\n",
    "plt.figure(figsize=(10, 6))\n",
    "plt.scatter(results_df['volatility'], results_df['return'], c=results_df['sharpe'], cmap='viridis')\n",
    "plt.colorbar(label='Sharpe Ratio')\n",
    "plt.scatter(best_portfolio['volatility'], best_portfolio['return'], c='red', s=50, label='Max Sharpe')\n",
    "plt.xlabel('Volatility')\n",
    "plt.ylabel('Annual Return')\n",
    "plt.title('Random Portfolio Simulation')\n",
    "plt.legend()\n",
    "plt.show()"
   ]
  }
 ],
 "metadata": {
  "kernelspec": {
   "display_name": "venv",
   "language": "python",
   "name": "python3"
  },
  "language_info": {
   "name": "python",
   "version": "3.12.8"
  }
 },
 "nbformat": 4,
 "nbformat_minor": 2
}
